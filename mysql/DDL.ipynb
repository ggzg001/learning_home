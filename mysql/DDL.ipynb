{
 "cells": [
  {
   "cell_type": "code",
   "execution_count": 1,
   "metadata": {},
   "outputs": [
    {
     "data": {
      "text/plain": [
       "'Connected: root@None'"
      ]
     },
     "execution_count": 1,
     "metadata": {},
     "output_type": "execute_result"
    }
   ],
   "source": [
    "%load_ext sql\n",
    "%sql mysql+pymysql://root@localhost"
   ]
  },
  {
   "cell_type": "markdown",
   "metadata": {},
   "source": [
    "# 库和表的管理\n",
    "\n",
    "一、库的管理\n",
    "\n",
    "创建、修改、删除\n",
    "\n",
    "二、表的管理\n",
    "\n",
    "创建、修改、删除\n",
    "\n",
    "创建： create\n",
    "修改： alter\n",
    "删除： drop\n",
    "\n",
    "## 库的管理\n",
    "\n",
    "### 创建\n",
    "语法： create database [if not exists]库名;"
   ]
  },
  {
   "cell_type": "code",
   "execution_count": 2,
   "metadata": {},
   "outputs": [
    {
     "name": "stdout",
     "output_type": "stream",
     "text": [
      " * mysql+pymysql://root@localhost\n",
      "1 rows affected.\n"
     ]
    },
    {
     "data": {
      "text/plain": [
       "[]"
      ]
     },
     "execution_count": 2,
     "metadata": {},
     "output_type": "execute_result"
    }
   ],
   "source": [
    "%sql create database ttt;"
   ]
  },
  {
   "cell_type": "code",
   "execution_count": 3,
   "metadata": {},
   "outputs": [
    {
     "name": "stdout",
     "output_type": "stream",
     "text": [
      " * mysql+pymysql://root@localhost\n",
      "(pymysql.err.ProgrammingError) (1007, \"Can't create database 'ttt'; database exists\")\n",
      "[SQL: create database ttt;]\n",
      "(Background on this error at: http://sqlalche.me/e/f405)\n"
     ]
    }
   ],
   "source": [
    "%sql create database ttt;"
   ]
  },
  {
   "cell_type": "code",
   "execution_count": 4,
   "metadata": {},
   "outputs": [
    {
     "name": "stdout",
     "output_type": "stream",
     "text": [
      " * mysql+pymysql://root@localhost\n",
      "1 rows affected.\n"
     ]
    },
    {
     "name": "stderr",
     "output_type": "stream",
     "text": [
      "/Users/guwanhua/venv36/lib/python3.6/site-packages/pymysql/cursors.py:170: Warning: (1007, \"Can't create database 'ttt'; database exists\")\n",
      "  result = self._query(query)\n"
     ]
    },
    {
     "data": {
      "text/plain": [
       "[]"
      ]
     },
     "execution_count": 4,
     "metadata": {},
     "output_type": "execute_result"
    }
   ],
   "source": [
    "%sql create database if not exists ttt;"
   ]
  },
  {
   "cell_type": "markdown",
   "metadata": {},
   "source": [
    "### 库的删除\n",
    "\n",
    "语法：drop database [if exists]库名;"
   ]
  },
  {
   "cell_type": "code",
   "execution_count": 5,
   "metadata": {},
   "outputs": [
    {
     "name": "stdout",
     "output_type": "stream",
     "text": [
      " * mysql+pymysql://root@localhost\n",
      "0 rows affected.\n"
     ]
    },
    {
     "data": {
      "text/plain": [
       "[]"
      ]
     },
     "execution_count": 5,
     "metadata": {},
     "output_type": "execute_result"
    }
   ],
   "source": [
    "%sql drop database if exists ttt;"
   ]
  },
  {
   "cell_type": "markdown",
   "metadata": {},
   "source": [
    "### 库的修改\n",
    "\n",
    "库的修改一般不会用到，就算用到大部分也是改一下库的字符集。"
   ]
  },
  {
   "cell_type": "code",
   "execution_count": 7,
   "metadata": {},
   "outputs": [
    {
     "name": "stdout",
     "output_type": "stream",
     "text": [
      " * mysql+pymysql://root@localhost\n",
      "1 rows affected.\n"
     ]
    },
    {
     "name": "stderr",
     "output_type": "stream",
     "text": [
      "/Users/guwanhua/venv36/lib/python3.6/site-packages/pymysql/cursors.py:170: Warning: (3719, \"'utf8' is currently an alias for the character set UTF8MB3, but will be an alias for UTF8MB4 in a future release. Please consider using UTF8MB4 in order to be unambiguous.\")\n",
      "  result = self._query(query)\n"
     ]
    },
    {
     "data": {
      "text/plain": [
       "[]"
      ]
     },
     "execution_count": 7,
     "metadata": {},
     "output_type": "execute_result"
    }
   ],
   "source": [
    "%sql alter database test character set utf8;"
   ]
  },
  {
   "cell_type": "markdown",
   "metadata": {},
   "source": [
    "## 表的管理\n",
    "\n",
    "### 表的创建\n",
    "\n",
    "语法：\n",
    "```\n",
    "create table 表名(\n",
    "\t列名 列的类型[(长度) 约束],\n",
    "\t列名 列的类型[(长度) 约束],\n",
    "\t列名 列的类型[(长度) 约束],\n",
    "\t...\n",
    "\t列名 列的类型[(长度) 约束]\n",
    ")\n",
    "```"
   ]
  },
  {
   "cell_type": "code",
   "execution_count": 16,
   "metadata": {},
   "outputs": [
    {
     "name": "stdout",
     "output_type": "stream",
     "text": [
      " * mysql+pymysql://root@localhost\n",
      "0 rows affected.\n",
      " * mysql+pymysql://root@localhost\n",
      "0 rows affected.\n"
     ]
    },
    {
     "data": {
      "text/plain": [
       "[]"
      ]
     },
     "execution_count": 16,
     "metadata": {},
     "output_type": "execute_result"
    }
   ],
   "source": [
    "%sql use test;\n",
    "%sql create table book(id int, name varchar(10), price DOUBLE, create_time datetime, update_time timestamp);"
   ]
  },
  {
   "cell_type": "markdown",
   "metadata": {},
   "source": [
    "### 表的修改\n",
    "\n",
    "语法: alter table 表名 add|drop|modify|change column 列名 [列类型 约束];"
   ]
  },
  {
   "cell_type": "code",
   "execution_count": 18,
   "metadata": {},
   "outputs": [
    {
     "name": "stdout",
     "output_type": "stream",
     "text": [
      " * mysql+pymysql://root@localhost\n",
      "1 rows affected.\n"
     ]
    },
    {
     "data": {
      "text/plain": [
       "[]"
      ]
     },
     "execution_count": 18,
     "metadata": {},
     "output_type": "execute_result"
    }
   ],
   "source": [
    "# 更换列名\n",
    "%sql alter table book change column price Price float;"
   ]
  },
  {
   "cell_type": "code",
   "execution_count": 19,
   "metadata": {},
   "outputs": [
    {
     "name": "stdout",
     "output_type": "stream",
     "text": [
      " * mysql+pymysql://root@localhost\n",
      "1 rows affected.\n"
     ]
    },
    {
     "data": {
      "text/plain": [
       "[]"
      ]
     },
     "execution_count": 19,
     "metadata": {},
     "output_type": "execute_result"
    }
   ],
   "source": [
    "# 修改列的类型\n",
    "%sql alter table book modify column Price double;"
   ]
  },
  {
   "cell_type": "code",
   "execution_count": 20,
   "metadata": {},
   "outputs": [
    {
     "name": "stdout",
     "output_type": "stream",
     "text": [
      " * mysql+pymysql://root@localhost\n",
      "0 rows affected.\n"
     ]
    },
    {
     "data": {
      "text/plain": [
       "[]"
      ]
     },
     "execution_count": 20,
     "metadata": {},
     "output_type": "execute_result"
    }
   ],
   "source": [
    "# 增加新列\n",
    "%sql alter table book add column authorId int;"
   ]
  },
  {
   "cell_type": "code",
   "execution_count": 21,
   "metadata": {},
   "outputs": [
    {
     "name": "stdout",
     "output_type": "stream",
     "text": [
      " * mysql+pymysql://root@localhost\n",
      "0 rows affected.\n"
     ]
    },
    {
     "data": {
      "text/plain": [
       "[]"
      ]
     },
     "execution_count": 21,
     "metadata": {},
     "output_type": "execute_result"
    }
   ],
   "source": [
    "# 删除列\n",
    "%sql alter table book drop column Price;"
   ]
  },
  {
   "cell_type": "code",
   "execution_count": 22,
   "metadata": {},
   "outputs": [
    {
     "name": "stdout",
     "output_type": "stream",
     "text": [
      " * mysql+pymysql://root@localhost\n",
      "0 rows affected.\n"
     ]
    },
    {
     "data": {
      "text/plain": [
       "[]"
      ]
     },
     "execution_count": 22,
     "metadata": {},
     "output_type": "execute_result"
    }
   ],
   "source": [
    "# 修改表的名称\n",
    "%sql alter table book rename to books;"
   ]
  },
  {
   "cell_type": "markdown",
   "metadata": {},
   "source": [
    "### 表的删除\n",
    "\n",
    "语法：drop table if exists 表名"
   ]
  },
  {
   "cell_type": "markdown",
   "metadata": {},
   "source": [
    "### 表的复制\n",
    "\n",
    "1. 仅仅复制表的结构\n",
    "2. 复制表的结构+数据\n",
    "3. 只复制部分数据\n",
    "4. 仅仅复制某些字段"
   ]
  },
  {
   "cell_type": "code",
   "execution_count": 26,
   "metadata": {},
   "outputs": [
    {
     "name": "stdout",
     "output_type": "stream",
     "text": [
      " * mysql+pymysql://root@localhost\n",
      "0 rows affected.\n",
      " * mysql+pymysql://root@localhost\n",
      "2 rows affected.\n"
     ]
    },
    {
     "data": {
      "text/html": [
       "<table>\n",
       "    <tr>\n",
       "        <th>Tables_in_test</th>\n",
       "    </tr>\n",
       "    <tr>\n",
       "        <td>books</td>\n",
       "    </tr>\n",
       "    <tr>\n",
       "        <td>books_copy</td>\n",
       "    </tr>\n",
       "</table>"
      ],
      "text/plain": [
       "[('books',), ('books_copy',)]"
      ]
     },
     "execution_count": 26,
     "metadata": {},
     "output_type": "execute_result"
    }
   ],
   "source": [
    "# 仅仅复制表的结构\n",
    "%sql create table books_copy like books;\n",
    "%sql show tables;"
   ]
  },
  {
   "cell_type": "code",
   "execution_count": 27,
   "metadata": {},
   "outputs": [
    {
     "name": "stdout",
     "output_type": "stream",
     "text": [
      " * mysql+pymysql://root@localhost\n",
      "1 rows affected.\n"
     ]
    },
    {
     "data": {
      "text/plain": [
       "[]"
      ]
     },
     "execution_count": 27,
     "metadata": {},
     "output_type": "execute_result"
    }
   ],
   "source": [
    "# 复制表的结构+数据\n",
    "%sql create table b2 select * from books;"
   ]
  },
  {
   "cell_type": "code",
   "execution_count": 28,
   "metadata": {},
   "outputs": [
    {
     "name": "stdout",
     "output_type": "stream",
     "text": [
      " * mysql+pymysql://root@localhost\n",
      "1 rows affected.\n"
     ]
    },
    {
     "data": {
      "text/plain": [
       "[]"
      ]
     },
     "execution_count": 28,
     "metadata": {},
     "output_type": "execute_result"
    }
   ],
   "source": [
    "# 只复制部分数据\n",
    "%sql create table b3 select * from books where id=1;"
   ]
  },
  {
   "cell_type": "code",
   "execution_count": 29,
   "metadata": {},
   "outputs": [
    {
     "name": "stdout",
     "output_type": "stream",
     "text": [
      " * mysql+pymysql://root@localhost\n",
      "0 rows affected.\n",
      " * mysql+pymysql://root@localhost\n",
      "2 rows affected.\n"
     ]
    },
    {
     "data": {
      "text/html": [
       "<table>\n",
       "    <tr>\n",
       "        <th>Field</th>\n",
       "        <th>Type</th>\n",
       "        <th>Null</th>\n",
       "        <th>Key</th>\n",
       "        <th>Default</th>\n",
       "        <th>Extra</th>\n",
       "    </tr>\n",
       "    <tr>\n",
       "        <td>id</td>\n",
       "        <td>int(11)</td>\n",
       "        <td>YES</td>\n",
       "        <td></td>\n",
       "        <td>None</td>\n",
       "        <td></td>\n",
       "    </tr>\n",
       "    <tr>\n",
       "        <td>name</td>\n",
       "        <td>varchar(10)</td>\n",
       "        <td>YES</td>\n",
       "        <td></td>\n",
       "        <td>None</td>\n",
       "        <td></td>\n",
       "    </tr>\n",
       "</table>"
      ],
      "text/plain": [
       "[('id', 'int(11)', 'YES', '', None, ''),\n",
       " ('name', 'varchar(10)', 'YES', '', None, '')]"
      ]
     },
     "execution_count": 29,
     "metadata": {},
     "output_type": "execute_result"
    }
   ],
   "source": [
    "# 仅仅复制某些字段\n",
    "%sql create table b4 select id,name from books where 1=2;\n",
    "%sql desc b4;"
   ]
  },
  {
   "cell_type": "markdown",
   "metadata": {},
   "source": [
    "# 常见的数据类型\n",
    "\n",
    "数值型：\n",
    "\t整型\n",
    "\t小数：\n",
    "\t\t定点数\n",
    "\t\t浮点数\n",
    "字符型：\n",
    "\t较短的文本：char、varchar\n",
    "\t较长的文本：text、blob（较长的二进制数据）\n",
    "\n",
    "日期型：\n",
    "\t\n",
    "\n",
    "## 整型\n",
    "\n",
    "分类：\n",
    "```\n",
    "tinyint、smallint、mediumint、int/integer、bigint\n",
    "1\t      2\t\t   3\t          4\t\t    8\n",
    "```\n",
    "\n",
    "特点：\n",
    "1. 如果不设置无符号还是有符号，默认是有符号，如果想设置无符号，需要添加unsigned关键字\n",
    "2. 如果插入的数值超出了整型的范围,会报out of range异常，并且插入临界值\n",
    "3. 如果不设置长度，会有默认的长度\n",
    "4. 长度代表了显示的最大宽度，如果不够会用0在左边填充，但必须搭配zerofill使用, 使用了zerofill默认就是unsigned！\n",
    "\n",
    "## 小数\n",
    "\n",
    "1. 浮点型: float(M, D), double(M, D)\n",
    "2. 定点型: dec(M, D), decimal(M, D)\n",
    "\n",
    "特点：\n",
    "```\n",
    "M：整数部位+小数部位\n",
    "D：小数部位\n",
    "会严格按照M位来显示，小数位不足用0来补充\n",
    "\n",
    "\n",
    "M和D都可以省略\n",
    "如果是decimal，则M默认为10，D默认为0\n",
    "如果是float和double，则会根据插入的数值的精度来决定精度\n",
    "\n",
    "定点型的精确度较高，如果要求插入数值的精度较高如货币运算等则考虑使用\n",
    "```\n",
    "\n",
    "## 字符型\n",
    "\n",
    "* 较短的文本：char, varchar\n",
    "* 较长的文本：text, blob(较大的二进制)\n",
    "* 其他：binary和varbinary用于保存较短的二进制\n",
    "* enum用于保存枚举\n",
    "* set用于保存集合\n",
    "\n",
    "4.0版本以下，varchar(20)，指的是20字节，如果存放UTF8汉字时，只能存6个（每个汉字3字节） \n",
    "5.0版本以上，varchar(20)，指的是20字符，无论存放的是数字、字母还是UTF8汉字（每个汉字3字节），都可以存放20个，最大大小是65532字节 \n",
    "\n",
    "char, varchar的区别：\n",
    "* char(M)类型的数据列里，每个值都占用M个字节，如果某个长度小于M，MySQL就会在它的右边用空格字符补足．（在检索操作中那些填补出来的空格字符将被去掉）在varchar(M)类型的数据列里，每个值只占用刚好够用的字节再加上一个用来记录其长度的字节（即总长度为L+1字节）\n",
    "* char因为是固定长度，所以从效率上来说可能要高一点。\n",
    "\n",
    "什么时候使用char？ \n",
    "\n",
    "1. 存储很短的信息，比如门牌号码101，201……这样很短的信息应该用char，因为varchar还要占个byte用于存储信息长度，本来打算节约存储的现在得不偿失。 \n",
    "2. 固定长度的。比如使用uuid作为主键，那用char应该更合适。因为他固定长度，varchar动态根据长度的特性就消失了，而且还要占个长度信息。 \n",
    "\n",
    "\n",
    "关于varchar的问题是，varchar既然可以自动适应存储空间，那varchar(8)和varchar(255)存储应该都是一样的，那每次表设计的时候往大的方向去好了，免得以后不够用麻烦。这个思路对吗？答案是否定的。mysql会把表信息放到内存中，这时内存的申请是按照固定长度来的，如果varchar很大就会有问题。所以还是应该按需索取。\n",
    "\n",
    "## 日期型\n",
    "\n",
    "分类：\n",
    "1. date 只保存日期\n",
    "2. time 只保存时间\n",
    "3. year 只保存年\n",
    "4. datetime 保存日期+时间： 1000—9999 占8字节\n",
    "5. timestamp 保存日期+时间： 1970—2038\t占4字节\n",
    "\n",
    "\n",
    "datetime与timestamp：\n",
    "1. timestamp和实际时区有关，更能反映实际的日期，而datetime则只能反映出插入时的当地时区，对于跨时区的业务，TIMESTAMP更为合适\n",
    "2. timestamp的属性受Mysql版本和SQLMode的影响很大\n",
    "\n",
    "\n"
   ]
  },
  {
   "cell_type": "code",
   "execution_count": 31,
   "metadata": {},
   "outputs": [
    {
     "name": "stdout",
     "output_type": "stream",
     "text": [
      " * mysql+pymysql://root@localhost\n",
      "0 rows affected.\n"
     ]
    },
    {
     "data": {
      "text/plain": [
       "[]"
      ]
     },
     "execution_count": 31,
     "metadata": {},
     "output_type": "execute_result"
    }
   ],
   "source": [
    "%sql CREATE TABLE tab_date( \\\n",
    "    t1 DATETIME, \\\n",
    "    t2 TIMESTAMP \\\n",
    ");"
   ]
  },
  {
   "cell_type": "code",
   "execution_count": 32,
   "metadata": {},
   "outputs": [
    {
     "name": "stdout",
     "output_type": "stream",
     "text": [
      " * mysql+pymysql://root@localhost\n",
      "1 rows affected.\n",
      " * mysql+pymysql://root@localhost\n",
      "1 rows affected.\n"
     ]
    },
    {
     "data": {
      "text/html": [
       "<table>\n",
       "    <tr>\n",
       "        <th>t1</th>\n",
       "        <th>t2</th>\n",
       "    </tr>\n",
       "    <tr>\n",
       "        <td>2019-06-28 11:26:57</td>\n",
       "        <td>2019-06-28 11:26:57</td>\n",
       "    </tr>\n",
       "</table>"
      ],
      "text/plain": [
       "[(datetime.datetime(2019, 6, 28, 11, 26, 57), datetime.datetime(2019, 6, 28, 11, 26, 57))]"
      ]
     },
     "execution_count": 32,
     "metadata": {},
     "output_type": "execute_result"
    }
   ],
   "source": [
    "%sql INSERT INTO tab_date VALUES(NOW(),NOW());\n",
    "%sql SELECT * FROM tab_date;"
   ]
  },
  {
   "cell_type": "code",
   "execution_count": 34,
   "metadata": {},
   "outputs": [
    {
     "name": "stdout",
     "output_type": "stream",
     "text": [
      " * mysql+pymysql://root@localhost\n",
      "1 rows affected.\n",
      " * mysql+pymysql://root@localhost\n",
      "0 rows affected.\n",
      " * mysql+pymysql://root@localhost\n",
      "1 rows affected.\n"
     ]
    },
    {
     "data": {
      "text/html": [
       "<table>\n",
       "    <tr>\n",
       "        <th>t1</th>\n",
       "        <th>t2</th>\n",
       "    </tr>\n",
       "    <tr>\n",
       "        <td>2019-06-28 11:26:57</td>\n",
       "        <td>2019-06-28 12:26:57</td>\n",
       "    </tr>\n",
       "</table>"
      ],
      "text/plain": [
       "[(datetime.datetime(2019, 6, 28, 11, 26, 57), datetime.datetime(2019, 6, 28, 12, 26, 57))]"
      ]
     },
     "execution_count": 34,
     "metadata": {},
     "output_type": "execute_result"
    }
   ],
   "source": [
    "%sql SHOW VARIABLES LIKE 'time_zone';\n",
    "# 设置时区\n",
    "%sql SET time_zone='+9:00';\n",
    "# 发现timestamp的字段时间会自动改变，因为mysql会在内部做这样的计算，把之前的时区和现在时区的区别做相应调整\n",
    "%sql SELECT * FROM tab_date;"
   ]
  },
  {
   "cell_type": "markdown",
   "metadata": {},
   "source": [
    "# 常见约束\n",
    "\n",
    "含义：一种限制，用于限制表中的数据，为了保证表中的数据的准确和可靠性\n",
    "\n",
    "\n",
    "分类：5大约束\n",
    "1. NOT NULL：非空，用于保证该字段的值不能为空。比如姓名、学号等\n",
    "2. DEFAULT:默认，用于保证该字段有默认值。比如性别\n",
    "3. PRIMARY KEY:主键，用于保证该字段的值具有唯一性，并且非空。比如学号、员工编号等\n",
    "4. UNIQUE:唯一，用于保证该字段的值具有唯一性。可以为空，比如座位号\n",
    "5. FOREIGN KEY:外键，用于限制两个表的关系，用于保证该字段的值必须来自于主表的关联列的值，在从表添加外键约束，用于引用主表中某列的值。比如学生表的专业编号，员工表的部门编号，员工表的工种编号\n",
    "\t\n",
    "\n",
    "添加约束的时机：\n",
    "1. 创建表时\n",
    "2. 修改表时\n",
    "\t\n",
    "\n",
    "约束的添加分类：\n",
    "1. 列级约束：5大约束语法上都支持，<font color=\"red\">但外键约束没有效果</font>\n",
    "2. 表级约束：<font color=\"red\">除了非空、默认，其他的都支持</font>\n",
    "\t\t\n",
    "\t\t\n",
    "主键和唯一的大对比：\n",
    "\n",
    "\t|保证唯一性 | 是否允许为空   | 一个表中可以有多少个   |是否允许组合|\n",
    "\t|主键\t |√\t\t |×\t  |\t至多有1个      |     √，但不推荐|\n",
    "\t|唯一\t |√\t\t |√\t   |\t可以有多个    |      √，但不推荐|\n",
    "    \n",
    "外键：\n",
    "1. 要求在从表设置外键关系\n",
    "2. 从表的外键列的类型和主表的关联列的类型要求一致或兼容，名称无要求\n",
    "3. 主表的关联列必须是一个key（一般是主键或唯一）\n",
    "4. 插入数据时，先插入主表，再插入从表; 删除数据时，先删除从表，再删除主表\n",
    "\n",
    "语法：\n",
    "```\n",
    "CREATE TABLE 表名(\n",
    "\t字段名 字段类型 列级约束,\n",
    "\t字段名 字段类型,\n",
    "\t表级约束\n",
    ")\n",
    "```\n",
    "\n",
    "## 创建表时添加约束\n",
    "\n",
    "### 添加列级约束\n",
    "\n",
    "语法：直接在字段名和类型后面追加 约束类型即可。\n",
    "\n",
    "只支持：默认、非空、主键、唯一, 不支持外键"
   ]
  },
  {
   "cell_type": "code",
   "execution_count": 55,
   "metadata": {},
   "outputs": [
    {
     "name": "stdout",
     "output_type": "stream",
     "text": [
      " * mysql+pymysql://root@localhost\n",
      "0 rows affected.\n"
     ]
    },
    {
     "data": {
      "text/plain": [
       "[]"
      ]
     },
     "execution_count": 55,
     "metadata": {},
     "output_type": "execute_result"
    }
   ],
   "source": [
    "%sql create table stuinfo (id int primary key, \\\n",
    "name varchar(10) not null unique, \\\n",
    "age int default 18, \\\n",
    "insert_time datetime default CURRENT_TIMESTAMP)                         \n"
   ]
  },
  {
   "cell_type": "markdown",
   "metadata": {},
   "source": [
    "### 添加表级约束\n",
    "\n",
    "不支持：default、非空，其他都支持\n",
    "\n"
   ]
  },
  {
   "cell_type": "code",
   "execution_count": null,
   "metadata": {},
   "outputs": [],
   "source": [
    "%sql drop table if exists stuinfo; \n",
    "%sql create table stuinfo ( \\\n",
    "id int, \\\n",
    "name varchar(12) not null, \\\n",
    "majorid int, \\\n",
    "constraint pk primary key(id), \\\n",
    "constraint uq unique(name), \\\n",
    "constraint fk foreign key(majorid) references major(id) \n",
    ")"
   ]
  },
  {
   "cell_type": "code",
   "execution_count": null,
   "metadata": {},
   "outputs": [],
   "source": [
    "# 一般通用的写法, 把外键的设置用表级约束进行添加\n",
    "%sql CREATE TABLE IF NOT EXISTS stuinfo( \\\n",
    "    id INT PRIMARY KEY, \\\n",
    "    stuname VARCHAR(20), \\\n",
    "    sex CHAR(1), \\\n",
    "    age INT DEFAULT 18, \\\n",
    "    seat INT UNIQUE, \\\n",
    "    majorid INT, \\\n",
    "    CONSTRAINT fk_stuinfo_major FOREIGN KEY(majorid) REFERENCES major(id)\n",
    ");"
   ]
  },
  {
   "cell_type": "markdown",
   "metadata": {},
   "source": [
    "## 修改表时添加约束\n",
    "\n",
    "1. 添加列级约束\n",
    "alter table 表名 modify column 字段名 字段类型 新约束;\n",
    "\n",
    "2. 添加表级约束\n",
    "alter table 表名 add 【constraint 约束名】 约束类型(字段名) 【外键的引用】;"
   ]
  },
  {
   "cell_type": "code",
   "execution_count": 63,
   "metadata": {},
   "outputs": [
    {
     "name": "stdout",
     "output_type": "stream",
     "text": [
      " * mysql+pymysql://root@localhost\n",
      "0 rows affected.\n",
      " * mysql+pymysql://root@localhost\n",
      "0 rows affected.\n"
     ]
    },
    {
     "data": {
      "text/plain": [
       "[]"
      ]
     },
     "execution_count": 63,
     "metadata": {},
     "output_type": "execute_result"
    }
   ],
   "source": [
    "%sql DROP TABLE IF EXISTS stuinfo;\n",
    "%sql CREATE TABLE stuinfo (id int, stuname char(20),gender CHAR(1),seat INT, age INT, majorid int)"
   ]
  },
  {
   "cell_type": "code",
   "execution_count": 64,
   "metadata": {},
   "outputs": [
    {
     "name": "stdout",
     "output_type": "stream",
     "text": [
      " * mysql+pymysql://root@localhost\n",
      "6 rows affected.\n"
     ]
    },
    {
     "data": {
      "text/html": [
       "<table>\n",
       "    <tr>\n",
       "        <th>Field</th>\n",
       "        <th>Type</th>\n",
       "        <th>Null</th>\n",
       "        <th>Key</th>\n",
       "        <th>Default</th>\n",
       "        <th>Extra</th>\n",
       "    </tr>\n",
       "    <tr>\n",
       "        <td>id</td>\n",
       "        <td>int(11)</td>\n",
       "        <td>YES</td>\n",
       "        <td></td>\n",
       "        <td>None</td>\n",
       "        <td></td>\n",
       "    </tr>\n",
       "    <tr>\n",
       "        <td>stuname</td>\n",
       "        <td>char(20)</td>\n",
       "        <td>YES</td>\n",
       "        <td></td>\n",
       "        <td>None</td>\n",
       "        <td></td>\n",
       "    </tr>\n",
       "    <tr>\n",
       "        <td>gender</td>\n",
       "        <td>char(1)</td>\n",
       "        <td>YES</td>\n",
       "        <td></td>\n",
       "        <td>None</td>\n",
       "        <td></td>\n",
       "    </tr>\n",
       "    <tr>\n",
       "        <td>seat</td>\n",
       "        <td>int(11)</td>\n",
       "        <td>YES</td>\n",
       "        <td></td>\n",
       "        <td>None</td>\n",
       "        <td></td>\n",
       "    </tr>\n",
       "    <tr>\n",
       "        <td>age</td>\n",
       "        <td>int(11)</td>\n",
       "        <td>YES</td>\n",
       "        <td></td>\n",
       "        <td>None</td>\n",
       "        <td></td>\n",
       "    </tr>\n",
       "    <tr>\n",
       "        <td>majorid</td>\n",
       "        <td>int(11)</td>\n",
       "        <td>YES</td>\n",
       "        <td></td>\n",
       "        <td>None</td>\n",
       "        <td></td>\n",
       "    </tr>\n",
       "</table>"
      ],
      "text/plain": [
       "[('id', 'int(11)', 'YES', '', None, ''),\n",
       " ('stuname', 'char(20)', 'YES', '', None, ''),\n",
       " ('gender', 'char(1)', 'YES', '', None, ''),\n",
       " ('seat', 'int(11)', 'YES', '', None, ''),\n",
       " ('age', 'int(11)', 'YES', '', None, ''),\n",
       " ('majorid', 'int(11)', 'YES', '', None, '')]"
      ]
     },
     "execution_count": 64,
     "metadata": {},
     "output_type": "execute_result"
    }
   ],
   "source": [
    "%sql desc stuinfo;"
   ]
  },
  {
   "cell_type": "code",
   "execution_count": 66,
   "metadata": {},
   "outputs": [
    {
     "name": "stdout",
     "output_type": "stream",
     "text": [
      " * mysql+pymysql://root@localhost\n",
      "0 rows affected.\n"
     ]
    },
    {
     "data": {
      "text/plain": [
       "[]"
      ]
     },
     "execution_count": 66,
     "metadata": {},
     "output_type": "execute_result"
    }
   ],
   "source": [
    "# 1.添加非空约束\n",
    "%sql alter table stuinfo modify column stuname varchar(20) not null;"
   ]
  },
  {
   "cell_type": "code",
   "execution_count": 67,
   "metadata": {},
   "outputs": [
    {
     "name": "stdout",
     "output_type": "stream",
     "text": [
      " * mysql+pymysql://root@localhost\n",
      "0 rows affected.\n"
     ]
    },
    {
     "data": {
      "text/plain": [
       "[]"
      ]
     },
     "execution_count": 67,
     "metadata": {},
     "output_type": "execute_result"
    }
   ],
   "source": [
    "# 2.添加默认约束\n",
    "%sql alter table stuinfo modify column age int default 18;"
   ]
  },
  {
   "cell_type": "code",
   "execution_count": 68,
   "metadata": {},
   "outputs": [
    {
     "name": "stdout",
     "output_type": "stream",
     "text": [
      " * mysql+pymysql://root@localhost\n",
      "0 rows affected.\n"
     ]
    },
    {
     "data": {
      "text/plain": [
       "[]"
      ]
     },
     "execution_count": 68,
     "metadata": {},
     "output_type": "execute_result"
    }
   ],
   "source": [
    "# 3.添加主键\n",
    "%sql alter table stuinfo modify column id int primary key;"
   ]
  },
  {
   "cell_type": "code",
   "execution_count": 78,
   "metadata": {},
   "outputs": [
    {
     "name": "stdout",
     "output_type": "stream",
     "text": [
      " * mysql+pymysql://root@localhost\n",
      "0 rows affected.\n",
      " * mysql+pymysql://root@localhost\n",
      "0 rows affected.\n"
     ]
    },
    {
     "name": "stderr",
     "output_type": "stream",
     "text": [
      "/Users/guwanhua/venv36/lib/python3.6/site-packages/pymysql/cursors.py:170: Warning: (1050, \"Table 'major' already exists\")\n",
      "  result = self._query(query)\n"
     ]
    },
    {
     "data": {
      "text/plain": [
       "[]"
      ]
     },
     "execution_count": 78,
     "metadata": {},
     "output_type": "execute_result"
    }
   ],
   "source": [
    "# 4.添加外键\n",
    "%sql CREATE TABLE if not exists major(id INT PRIMARY KEY, majorName VARCHAR(20));\n",
    "%sql alter table stuinfo add constraint fk foreign key(majorid) references major(id);"
   ]
  },
  {
   "cell_type": "markdown",
   "metadata": {},
   "source": [
    "## 修改表时删除约束\n"
   ]
  },
  {
   "cell_type": "code",
   "execution_count": 74,
   "metadata": {},
   "outputs": [
    {
     "name": "stdout",
     "output_type": "stream",
     "text": [
      " * mysql+pymysql://root@localhost\n",
      "0 rows affected.\n"
     ]
    },
    {
     "data": {
      "text/plain": [
       "[]"
      ]
     },
     "execution_count": 74,
     "metadata": {},
     "output_type": "execute_result"
    }
   ],
   "source": [
    "# 1.删除非空约束\n",
    "%sql ALTER TABLE stuinfo MODIFY COLUMN stuname VARCHAR(20) NULL;"
   ]
  },
  {
   "cell_type": "code",
   "execution_count": 75,
   "metadata": {},
   "outputs": [
    {
     "name": "stdout",
     "output_type": "stream",
     "text": [
      " * mysql+pymysql://root@localhost\n",
      "0 rows affected.\n"
     ]
    },
    {
     "data": {
      "text/plain": [
       "[]"
      ]
     },
     "execution_count": 75,
     "metadata": {},
     "output_type": "execute_result"
    }
   ],
   "source": [
    "# 2.删除默认约束\n",
    "%sql ALTER TABLE stuinfo MODIFY COLUMN age INT ;"
   ]
  },
  {
   "cell_type": "code",
   "execution_count": 76,
   "metadata": {},
   "outputs": [
    {
     "name": "stdout",
     "output_type": "stream",
     "text": [
      " * mysql+pymysql://root@localhost\n",
      "0 rows affected.\n"
     ]
    },
    {
     "data": {
      "text/plain": [
       "[]"
      ]
     },
     "execution_count": 76,
     "metadata": {},
     "output_type": "execute_result"
    }
   ],
   "source": [
    "# 3.删除主键\n",
    "%sql alter table stuinfo drop primary key;"
   ]
  },
  {
   "cell_type": "code",
   "execution_count": 77,
   "metadata": {},
   "outputs": [
    {
     "name": "stdout",
     "output_type": "stream",
     "text": [
      " * mysql+pymysql://root@localhost\n",
      "0 rows affected.\n"
     ]
    },
    {
     "data": {
      "text/plain": [
       "[]"
      ]
     },
     "execution_count": 77,
     "metadata": {},
     "output_type": "execute_result"
    }
   ],
   "source": [
    "# 4.删除外键\n",
    "%sql alter table stuinfo drop foreign key fk;"
   ]
  },
  {
   "cell_type": "markdown",
   "metadata": {},
   "source": [
    "# 自增长列\n",
    "\n",
    "含义：可以不用手动的插入值，系统提供默认的序列值\n",
    "\n",
    "\n",
    "特点：\n",
    "1. 标识列必须和主键搭配吗？不一定，但要求是一个key\n",
    "2. 一个表可以有几个标识列？至多一个！\n",
    "3. 标识列的类型只能是数值型(int float等)\n",
    "4. 标识列可以通过 SET auto_increment_increment=3;设置步长\n",
    "\n",
    "如果对float类型设置自增, 上一次的值是4， 某一次手动插入的值是7.2，那么下一次自动插入的值就是8.\n",
    "\n",
    "下图的NAME设置成FLOAT UNIQUE AUTO_INCREMENT.\n",
    "```\n",
    "+------+------+------+\n",
    "| id   | NAME | seat |\n",
    "+------+------+------+\n",
    "|    1 |    1 |    2 |\n",
    "|    1 |    2 |    2 |\n",
    "|    1 |  3.2 |    2 |\n",
    "|    1 |    4 |    2 |\n",
    "|    1 |  7.2 |    2 |\n",
    "|    1 |    8 |    2 |\n",
    "+------+------+------+\n",
    "```\n",
    "\n",
    "SHOW VARIABLES LIKE '%auto_increment%';\n",
    "\n",
    "SET auto_increment_increment=3;"
   ]
  },
  {
   "cell_type": "code",
   "execution_count": null,
   "metadata": {},
   "outputs": [],
   "source": []
  }
 ],
 "metadata": {
  "kernelspec": {
   "display_name": "Python 3",
   "language": "python",
   "name": "python3"
  },
  "language_info": {
   "codemirror_mode": {
    "name": "ipython",
    "version": 3
   },
   "file_extension": ".py",
   "mimetype": "text/x-python",
   "name": "python",
   "nbconvert_exporter": "python",
   "pygments_lexer": "ipython3",
   "version": "3.6.3"
  }
 },
 "nbformat": 4,
 "nbformat_minor": 2
}
