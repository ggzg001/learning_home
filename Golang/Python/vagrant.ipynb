{
 "cells": [
  {
   "cell_type": "markdown",
   "metadata": {},
   "source": [
    "本人之所以使用vagrant, 是因为想玩一下ansible的时候需要用到多台服务器。因为VM太重了，本人的mac的配置不是很高，所以选择了更轻量级的vagrant.\n",
    "\n",
    "准备工作：\n",
    "\n",
    "下载安装 VirtualBox ：https://www.virtualbox.org/\n",
    "\n",
    "下载安装 Vagrant ：http://www.vagrantup.com/\n",
    "\n",
    "下载centos7: https://github.com/tommy-muehle/puppet-vagrant-boxes/releases/download/1.1.0/centos-7.0-x86_64.box(管理员账号和密码是root/vagrant)\n",
    "\n",
    "VirtualBox是类似于VM的一款虚拟机, vagrant是一套命令可以用来管理VirtualBox上跑的各种系统, 比如开机关机等。\n",
    "\n",
    "可以在 http://www.vagrantbox.es/ 这里下载更多不同系统甚至是已经配置好环境直接可以用的box，虽然可以直接在Vagrant直接使用网址，由Vagrant自动下载安装，但是考虑到网络情况，还是建议自行先下载好放在指定的boxes目录下。\n"
   ]
  },
  {
   "cell_type": "markdown",
   "metadata": {},
   "source": [
    "# 简单使用\n",
    "\n",
    "`vagrant box add base /tmp/boxes/CentOS-6.3-x86_64-minimal.box`\n",
    "\n",
    "base 表示指定默认的box，也可以为box指定名称，比如 centos63 ，使用base时，之后可以直接使用 vagrant init 进行初始化，如果自行指定名称，则初始化的时候需要指定box的名称。\n",
    "设置好box之后，在当前工作目录运行\n",
    "`vagrant init`\n",
    "生成对应的Vagrantfile。通过文本编辑器打开Vagrantfile可以进行一些进一步的常用配置\n",
    "开启对应的虚拟机 `vagrant up`"
   ]
  },
  {
   "cell_type": "code",
   "execution_count": null,
   "metadata": {},
   "outputs": [],
   "source": []
  }
 ],
 "metadata": {
  "kernelspec": {
   "display_name": "Python 3",
   "language": "python",
   "name": "python3"
  },
  "language_info": {
   "codemirror_mode": {
    "name": "ipython",
    "version": 3
   },
   "file_extension": ".py",
   "mimetype": "text/x-python",
   "name": "python",
   "nbconvert_exporter": "python",
   "pygments_lexer": "ipython3",
   "version": "3.6.3"
  }
 },
 "nbformat": 4,
 "nbformat_minor": 2
}
