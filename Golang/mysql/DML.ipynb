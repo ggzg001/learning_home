{
 "cells": [
  {
   "cell_type": "code",
   "execution_count": 2,
   "metadata": {},
   "outputs": [
    {
     "name": "stdout",
     "output_type": "stream",
     "text": [
      "The sql extension is already loaded. To reload it, use:\n",
      "  %reload_ext sql\n"
     ]
    },
    {
     "data": {
      "text/plain": [
       "'Connected: root@girls'"
      ]
     },
     "execution_count": 2,
     "metadata": {},
     "output_type": "execute_result"
    }
   ],
   "source": [
    "%load_ext sql\n",
    "%sql mysql+pymysql://root@localhost/girls"
   ]
  },
  {
   "cell_type": "markdown",
   "metadata": {},
   "source": [
    "# DML\n",
    "\n",
    "\n",
    "\n",
    "针对数据的操作语言：\n",
    "* 插入：insert\n",
    "* 修改：update\n",
    "* 删除：delete\n",
    "\n",
    "\n",
    "\n",
    "## 插入语句\n",
    "方式一：经典的插入\n",
    "`insert into 表名(列名,...) values(值1,...);`\n",
    "\n",
    "方式二：\n",
    "`insert into 表名 set 列名=值,列名=值,...`\n",
    "\n",
    "两种方式的比较：\n",
    "1. 方式一支持插入多行,方式二不支持\n",
    "2. 方式一支持子查询，方式二不支持\n",
    "\n",
    "通过比较，还是方式一用的比较多。"
   ]
  },
  {
   "cell_type": "code",
   "execution_count": 3,
   "metadata": {},
   "outputs": [
    {
     "name": "stdout",
     "output_type": "stream",
     "text": [
      " * mysql+pymysql://root@localhost/girls\n",
      "   mysql+pymysql://root@localhost/myemployees\n",
      "7 rows affected.\n"
     ]
    },
    {
     "data": {
      "text/html": [
       "<table>\n",
       "    <tr>\n",
       "        <th>Field</th>\n",
       "        <th>Type</th>\n",
       "        <th>Null</th>\n",
       "        <th>Key</th>\n",
       "        <th>Default</th>\n",
       "        <th>Extra</th>\n",
       "    </tr>\n",
       "    <tr>\n",
       "        <td>id</td>\n",
       "        <td>int(11)</td>\n",
       "        <td>NO</td>\n",
       "        <td>PRI</td>\n",
       "        <td>None</td>\n",
       "        <td>auto_increment</td>\n",
       "    </tr>\n",
       "    <tr>\n",
       "        <td>name</td>\n",
       "        <td>varchar(50)</td>\n",
       "        <td>NO</td>\n",
       "        <td></td>\n",
       "        <td>None</td>\n",
       "        <td></td>\n",
       "    </tr>\n",
       "    <tr>\n",
       "        <td>sex</td>\n",
       "        <td>char(1)</td>\n",
       "        <td>YES</td>\n",
       "        <td></td>\n",
       "        <td>女</td>\n",
       "        <td></td>\n",
       "    </tr>\n",
       "    <tr>\n",
       "        <td>borndate</td>\n",
       "        <td>datetime</td>\n",
       "        <td>YES</td>\n",
       "        <td></td>\n",
       "        <td>1987-01-01 00:00:00</td>\n",
       "        <td></td>\n",
       "    </tr>\n",
       "    <tr>\n",
       "        <td>phone</td>\n",
       "        <td>varchar(11)</td>\n",
       "        <td>NO</td>\n",
       "        <td></td>\n",
       "        <td>None</td>\n",
       "        <td></td>\n",
       "    </tr>\n",
       "    <tr>\n",
       "        <td>photo</td>\n",
       "        <td>blob</td>\n",
       "        <td>YES</td>\n",
       "        <td></td>\n",
       "        <td>None</td>\n",
       "        <td></td>\n",
       "    </tr>\n",
       "    <tr>\n",
       "        <td>boyfriend_id</td>\n",
       "        <td>int(11)</td>\n",
       "        <td>YES</td>\n",
       "        <td></td>\n",
       "        <td>None</td>\n",
       "        <td></td>\n",
       "    </tr>\n",
       "</table>"
      ],
      "text/plain": [
       "[('id', 'int(11)', 'NO', 'PRI', None, 'auto_increment'),\n",
       " ('name', 'varchar(50)', 'NO', '', None, ''),\n",
       " ('sex', 'char(1)', 'YES', '', '女', ''),\n",
       " ('borndate', 'datetime', 'YES', '', '1987-01-01 00:00:00', ''),\n",
       " ('phone', 'varchar(11)', 'NO', '', None, ''),\n",
       " ('photo', 'blob', 'YES', '', None, ''),\n",
       " ('boyfriend_id', 'int(11)', 'YES', '', None, '')]"
      ]
     },
     "execution_count": 3,
     "metadata": {},
     "output_type": "execute_result"
    }
   ],
   "source": [
    "%sql DESC beauty;"
   ]
  },
  {
   "cell_type": "markdown",
   "metadata": {},
   "source": []
  },
  {
   "cell_type": "code",
   "execution_count": 4,
   "metadata": {},
   "outputs": [
    {
     "name": "stdout",
     "output_type": "stream",
     "text": [
      " * mysql+pymysql://root@localhost/girls\n",
      "   mysql+pymysql://root@localhost/myemployees\n",
      "1 rows affected.\n"
     ]
    },
    {
     "data": {
      "text/plain": [
       "[]"
      ]
     },
     "execution_count": 4,
     "metadata": {},
     "output_type": "execute_result"
    }
   ],
   "source": [
    "# 1. 插入的字段和值一一完全精确匹配，包含允许为null的值\n",
    "%sql INSERT INTO beauty(id,NAME,sex,borndate,phone,photo,boyfriend_id) \\\n",
    "VALUES(13,'罗宾','女','1990-4-23','1898888888',NULL,2);"
   ]
  },
  {
   "cell_type": "code",
   "execution_count": 5,
   "metadata": {},
   "outputs": [
    {
     "name": "stdout",
     "output_type": "stream",
     "text": [
      " * mysql+pymysql://root@localhost/girls\n",
      "   mysql+pymysql://root@localhost/myemployees\n",
      "1 rows affected.\n"
     ]
    },
    {
     "data": {
      "text/plain": [
       "[]"
      ]
     },
     "execution_count": 5,
     "metadata": {},
     "output_type": "execute_result"
    }
   ],
   "source": [
    "# 2. 允许为null的列可以不插入值\n",
    "%sql INSERT INTO beauty(id,NAME,sex,phone) \\\n",
    "VALUES(15,'娜美','女','1388888888');"
   ]
  },
  {
   "cell_type": "code",
   "execution_count": 6,
   "metadata": {},
   "outputs": [
    {
     "name": "stdout",
     "output_type": "stream",
     "text": [
      " * mysql+pymysql://root@localhost/girls\n",
      "   mysql+pymysql://root@localhost/myemployees\n",
      "1 rows affected.\n"
     ]
    },
    {
     "data": {
      "text/plain": [
       "[]"
      ]
     },
     "execution_count": 6,
     "metadata": {},
     "output_type": "execute_result"
    }
   ],
   "source": [
    "# 3. 可以省略列名，默认所有列，而且列的顺序和表中列的顺序一致\n",
    "%sql INSERT INTO beauty \\\n",
    "VALUES(18,'张飞','男',NULL,'119',NULL,NULL);"
   ]
  },
  {
   "cell_type": "code",
   "execution_count": 7,
   "metadata": {},
   "outputs": [
    {
     "name": "stdout",
     "output_type": "stream",
     "text": [
      " * mysql+pymysql://root@localhost/girls\n",
      "   mysql+pymysql://root@localhost/myemployees\n",
      "1 rows affected.\n"
     ]
    },
    {
     "data": {
      "text/plain": [
       "[]"
      ]
     },
     "execution_count": 7,
     "metadata": {},
     "output_type": "execute_result"
    }
   ],
   "source": [
    "%sql INSERT INTO beauty \\\n",
    "SET id=19,NAME='女帝',phone='999';"
   ]
  },
  {
   "cell_type": "markdown",
   "metadata": {},
   "source": [
    "## 修改语句\n",
    "\n",
    "1. 修改单表的记录\n",
    "\n",
    "  语法：\n",
    "    ```\n",
    "    update 表名\n",
    "    set 列=新值,列=新值,...\n",
    "    where 筛选条件;\n",
    "    ```\n",
    "    \n",
    "   表名->where筛选条件->set值\n",
    "   \n",
    "\n",
    "2. 修改多表的记录\n",
    "\n",
    "  语法：\n",
    "  \n",
    "    ```\n",
    "    sql92语法：\n",
    "    update 表1 别名,表2 别名\n",
    "    set 列=值,...\n",
    "    where 连接条件\n",
    "    and 筛选条件;\n",
    "\n",
    "    sql99语法：\n",
    "    update 表1 别名\n",
    "    inner|left|right join 表2 别名\n",
    "    on 连接条件\n",
    "    set 列=值,...\n",
    "    where 筛选条件;\n",
    "    ```\n",
    "    \n"
   ]
  },
  {
   "cell_type": "code",
   "execution_count": 8,
   "metadata": {},
   "outputs": [
    {
     "name": "stdout",
     "output_type": "stream",
     "text": [
      " * mysql+pymysql://root@localhost/girls\n",
      "   mysql+pymysql://root@localhost/myemployees\n",
      "1 rows affected.\n"
     ]
    },
    {
     "data": {
      "text/plain": [
       "[]"
      ]
     },
     "execution_count": 8,
     "metadata": {},
     "output_type": "execute_result"
    }
   ],
   "source": [
    "# 1. 单表的更新\n",
    "%sql UPDATE boys SET boyname='张飞',usercp=10 \\\n",
    "WHERE id=2;"
   ]
  },
  {
   "cell_type": "code",
   "execution_count": 9,
   "metadata": {},
   "outputs": [
    {
     "name": "stdout",
     "output_type": "stream",
     "text": [
      " * mysql+pymysql://root@localhost/girls\n",
      "   mysql+pymysql://root@localhost/myemployees\n",
      "3 rows affected.\n"
     ]
    },
    {
     "data": {
      "text/plain": [
       "[]"
      ]
     },
     "execution_count": 9,
     "metadata": {},
     "output_type": "execute_result"
    }
   ],
   "source": [
    "# 2. 多表的更新\n",
    "# 修改没有男朋友的女神的男朋友编号都为2号\n",
    "%sql update beauty be left join boys bo on bo.id=be.boyfriend_id set be.boyfriend_id=2 where be.boyfriend_id is null;\n"
   ]
  },
  {
   "cell_type": "markdown",
   "metadata": {},
   "source": [
    "# 删除\n",
    "\n",
    "方式一：delete\n",
    "语法：\n",
    "    ```\n",
    "    1、单表的删除\n",
    "    delete from 表名 where 筛选条件\n",
    "\n",
    "    2、多表的删除【补充】\n",
    "\n",
    "    sql92语法：\n",
    "    delete 表1的别名,表2的别名\n",
    "    from 表1 别名,表2 别名\n",
    "    where 连接条件\n",
    "    and 筛选条件;\n",
    "\n",
    "    sql99语法：\n",
    "\n",
    "    delete 表1的别名, [表2的别名]\n",
    "    from 表1 别名\n",
    "    inner|left|right join 表2 别名 on 连接条件\n",
    "    where 筛选条件;\n",
    "    ```\n",
    "\n",
    "\n",
    "方式二：truncate\n",
    "语法：truncate table 表名;\n",
    "\n",
    "## delete"
   ]
  },
  {
   "cell_type": "code",
   "execution_count": 10,
   "metadata": {},
   "outputs": [
    {
     "name": "stdout",
     "output_type": "stream",
     "text": [
      " * mysql+pymysql://root@localhost/girls\n",
      "   mysql+pymysql://root@localhost/myemployees\n",
      "5 rows affected.\n"
     ]
    },
    {
     "data": {
      "text/plain": [
       "[]"
      ]
     },
     "execution_count": 10,
     "metadata": {},
     "output_type": "execute_result"
    }
   ],
   "source": [
    "# 1. 单表删除 删除手机号以9结尾的女神信息\n",
    "%sql delete from beauty where beauty.phone like \"%9\";"
   ]
  },
  {
   "cell_type": "code",
   "execution_count": 12,
   "metadata": {},
   "outputs": [
    {
     "name": "stdout",
     "output_type": "stream",
     "text": [
      " * mysql+pymysql://root@localhost/girls\n",
      "   mysql+pymysql://root@localhost/myemployees\n",
      "3 rows affected.\n"
     ]
    },
    {
     "data": {
      "text/plain": [
       "[]"
      ]
     },
     "execution_count": 12,
     "metadata": {},
     "output_type": "execute_result"
    }
   ],
   "source": [
    "# 2. 多表的删除 删除白展堂的女朋友的信息\n",
    "%sql delete be  from beauty be \\\n",
    "inner join boys bo \\\n",
    "on be.boyfriend_id=bo.id \\\n",
    "where bo.boyName=\"白展堂\";"
   ]
  },
  {
   "cell_type": "code",
   "execution_count": 14,
   "metadata": {},
   "outputs": [
    {
     "name": "stdout",
     "output_type": "stream",
     "text": [
      " * mysql+pymysql://root@localhost/girls\n",
      "   mysql+pymysql://root@localhost/myemployees\n",
      "2 rows affected.\n"
     ]
    },
    {
     "data": {
      "text/plain": [
       "[]"
      ]
     },
     "execution_count": 14,
     "metadata": {},
     "output_type": "execute_result"
    }
   ],
   "source": [
    "# 删除吕秀才的信息以及他女朋友的信息\n",
    "%sql DELETE be,bo \\\n",
    "FROM beauty be \\\n",
    "INNER JOIN boys bo ON be.boyfriend_id=bo.id \\\n",
    "WHERE bo.boyName='吕秀才';"
   ]
  },
  {
   "cell_type": "markdown",
   "metadata": {},
   "source": [
    "## truncate\n",
    "\n",
    "truncate主要用于快速清空表\n",
    "\n",
    "delete pk truncate：\n",
    "1. delete可以加where 条件，truncate不能加\n",
    "2. truncate删除，效率高一丢丢\n",
    "3. 假如要删除的表中有自增长列，如果用delete删除后，再插入数据，自增长列的值从断点开始，而truncate删除后，再插入数据，自增长列的值从1开始。\n",
    "4. truncate删除没有返回值，delete删除有返回值\n",
    "5. truncate删除不能回滚，delete删除可以回滚."
   ]
  },
  {
   "cell_type": "code",
   "execution_count": null,
   "metadata": {},
   "outputs": [],
   "source": []
  }
 ],
 "metadata": {
  "kernelspec": {
   "display_name": "Python 3",
   "language": "python",
   "name": "python3"
  },
  "language_info": {
   "codemirror_mode": {
    "name": "ipython",
    "version": 3
   },
   "file_extension": ".py",
   "mimetype": "text/x-python",
   "name": "python",
   "nbconvert_exporter": "python",
   "pygments_lexer": "ipython3",
   "version": "3.6.3"
  }
 },
 "nbformat": 4,
 "nbformat_minor": 2
}
