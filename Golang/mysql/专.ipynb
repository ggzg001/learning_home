{
 "cells": [
  {
   "cell_type": "markdown",
   "metadata": {},
   "source": [
    "主题：生信任务的管理\n",
    "\n",
    "技术方案：\n",
    "1. 生信流程的Docker标准化为 – 固定的目录结构来存放生信分析工具，分析脚本，封装了agent和数据后处理的脚本；新生信流程的Docker骨架可以通过工具生成\n",
    "2. 生信任务的创建：前端参数到后端服务，后端服务注入env环境变量到docker, 使用chronos短任务调度工具去调度生信任务\n",
    "3. 生信docker和后端的沟通：Agent用来上报所有和生信流程相关的信息，通过服务发现得到生信后端服务的地址；上报的信息包括生信流程的状态以及生信的结果数据或者目录；agent有重试机制，确保消息能够被处理；\n",
    "4. 生信结果数据到后端：生信分析得到的一堆可能分布在不同目录下的文件，这些结果数据不能直接用户前端显示，在docker内进行数据的分析处理并上报给后端(后端尽量不做分析数据的操作，因为涉及到IO等耗时操作)\n",
    "\n",
    "核心保护点：\n",
    "生信任务的管理\n",
    "\n",
    "解决的技术问题：\n",
    "后端和生信流程是不同的模块，生信流程的流通是后端发起，结果也同样需要响应到后端。\n"
   ]
  },
  {
   "cell_type": "markdown",
   "metadata": {},
   "source": []
  }
 ],
 "metadata": {
  "kernelspec": {
   "display_name": "Python 3",
   "language": "python",
   "name": "python3"
  },
  "language_info": {
   "codemirror_mode": {
    "name": "ipython",
    "version": 3
   },
   "file_extension": ".py",
   "mimetype": "text/x-python",
   "name": "python",
   "nbconvert_exporter": "python",
   "pygments_lexer": "ipython3",
   "version": "3.6.3"
  }
 },
 "nbformat": 4,
 "nbformat_minor": 2
}
