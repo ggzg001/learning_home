{
 "cells": [
  {
   "cell_type": "markdown",
   "metadata": {},
   "source": [
    "# django中的悲观锁和乐观锁\n",
    "\n",
    "悲观锁是真正的锁，一般是和事务一起使用。\n",
    "\n"
   ]
  },
  {
   "cell_type": "code",
   "execution_count": null,
   "metadata": {},
   "outputs": [],
   "source": [
    "class MyView(View):\n",
    "    \n",
    "    @transaction.atomic\n",
    "    def post(self, request):\n",
    "        # select * from 表名 where id=1 for update;  \n",
    "        # for update 就表示锁,只有获取到锁才会执行查询,否则阻塞等待。\n",
    "        obj = 模型类名.objects.select_for_update().get(id=1)\n",
    "        \n",
    "        # 等事务提交后，会自动释放锁。\n",
    "        \n",
    "        return HttpResponse('ok')\n"
   ]
  },
  {
   "cell_type": "markdown",
   "metadata": {},
   "source": [
    "**乐观锁其实并不是锁。通过SQL的where子句中的条件是否满足来判断是否满足更新条件来更新数据库，通过受影响行数判断是否更新成功，如果更新失败可以再次进行尝试，如果多次尝试失败就返回更新失败的结果。**\n",
    "\n",
    "使用乐观锁时，必须设置数据库的隔离级别是Read Committed(可以读到其他线程已提交的数据)。如果隔离级别是Repeatable Read(可重复读，读到的数据都是开启事务时刻的数据，即使其他线程提交更新数据，该线程读取的数据也是之前读到的数据)，乐观锁如果第一次尝试失败,那么不管尝试多少次都会失败。(Mysql数据库的默认隔离级别是Repeatable Read，需要修改成Read Committed)。\n"
   ]
  },
  {
   "cell_type": "code",
   "execution_count": null,
   "metadata": {},
   "outputs": [],
   "source": [
    "from django.db import transaction\n",
    "\n",
    "class MyView(View):\n",
    "    \n",
    "    @transaction.atomic\n",
    "    def post(self, request):\n",
    "        '''订单创建'''\n",
    "        count = 3   # 订购3件商品\n",
    "        \n",
    "        # 设置事务保存点\n",
    "        s1 = transaction.savepoint()\n",
    "        \n",
    "        # 乐观锁，最多尝试5次\n",
    "        for i in range(5):\n",
    "            # 查询商品的信息(库存)\n",
    "            try:\n",
    "                sku = GoodsSKU.objects.get(id=1)\n",
    "            except:\n",
    "                # 商品不存在\n",
    "                transaction.savepoint_rollback(s1)\n",
    "                return JsonResponse({'res': 1, 'errmsg': '商品不存在'})\n",
    " \n",
    "            # 判断商品的库存, 这里不严谨，因为库存是可以增多的\n",
    "            if count > sku.stock:\n",
    "                transaction.savepoint_rollback(s1)\n",
    "                return JsonResponse({'res': 2, 'errmsg': '商品库存不足'})\n",
    " \n",
    "            # 更新商品的库存和销量\n",
    "            orgin_stock = sku.stock   # 原库存 (数据库隔离级别必须是Read Committed；如果是Repeatable Read,那么多次尝试读取的原库存都是一样的,读不到其他线程提交更新后的数据。)\n",
    "            new_stock = orgin_stock - count   # 更新后的库存\n",
    "            new_sales = sku.sales + count   # 更新后的销量\n",
    " \n",
    "            # update 商品表 set stock=new_stock, sales=new_sales where id=1 and stock = orgin_stock\n",
    "            # 通过where子句中的条件判断库存是否进行了修改。(并发，乐观锁)\n",
    "            # 返回受影响的行数\n",
    "            res = GoodsSKU.objects.filter(id=1, stock=orgin_stock).update(stock=new_stock, sales=new_sales)\n",
    "            if res == 0:  # 如果修改失败\n",
    "                if i == 4:\n",
    "                    # 如果尝试5次都失败\n",
    "                    transaction.savepoint_rollback(s1)\n",
    "                    return JsonResponse({'res': 3, 'errmsg': '下单失败'})\n",
    "                continue  # 再次尝试\n",
    " \n",
    "            # 否则更新成功\n",
    "            # 跳出尝试循环\n",
    "            break\n",
    " \n",
    " \n",
    "        # 提交事务\n",
    "        transaction.savepoint_commit(s1)\n",
    " \n",
    "        # 返回应答\n",
    "        return JsonResponse({'res': 4, 'message': '创建成功'})\n"
   ]
  },
  {
   "cell_type": "markdown",
   "metadata": {},
   "source": [
    "# 事务\n",
    "\n",
    "## 针对每次HTTP请求的事务交易\n",
    "\n",
    "Django1.5和1.6版本都允许用户操作请求事务模式。在这种模式下，Django会自动在事务中，处理你的视图函数。如果视图函数抛出异常，Django会自动回滚事务；否则Django会提交事务。\n",
    "\n",
    "为了实现这个功能，你需要在你想要有此功能的数据库的配置中，设置“ATOMIC_REQUEST”为真。所以在我们的“settings.py”需要有如下设置： \n",
    "\n",
    "```\n",
    "DATABASES = {\n",
    "  'default': {\n",
    "    'ENGINE': 'django.db.backends.sqlite3',\n",
    "    'NAME': os.path.join(SITE_ROOT, 'test.db'),\n",
    "    'ATOMIC_REQUEST': True,\n",
    "  }\n",
    "}\n",
    "\n",
    "```\n",
    "\n",
    "## 异常捕获在atomic里"
   ]
  },
  {
   "cell_type": "code",
   "execution_count": null,
   "metadata": {},
   "outputs": [],
   "source": [
    "with transaction.atomic():\n",
    "    try:\n",
    "        Province.objects.create(name=\"北京\")\n",
    "        int('a')\n",
    "        Province.objects.create(name=\"上海\")\n",
    "    except:\n",
    "        print('=======')"
   ]
  },
  {
   "cell_type": "markdown",
   "metadata": {},
   "source": [
    "当退出一个atomic块时，Django会查看它是正常退出还是有异常来确定是提交还是回滚。如果你捕获并处理一个atomic块内的异常，atomic认为没有异常。不会执行它特有的回滚功能，也就是说认为代码块里的东西都是正常的。第一句Province.objects.create(name=\"北京\")会执行成功，执行到int('a')执行失败下面的Province.objects.create(name=\"上海\")不会继续执行。所以数据库会多一条\"北京\"的记录, 这种情形可能不是我们想要的。\n",
    "\n",
    "## 异常捕获在atomic外\n",
    "\n"
   ]
  },
  {
   "cell_type": "code",
   "execution_count": null,
   "metadata": {},
   "outputs": [],
   "source": [
    "try:\n",
    "    with transaction.atomic():\n",
    "        Province.objects.create(name=\"北京\")\n",
    "        int('a')\n",
    "        Province.objects.create(name=\"上海\")\n",
    "except:\n",
    "    print('======')"
   ]
  },
  {
   "cell_type": "markdown",
   "metadata": {},
   "source": [
    "此时atomic代码块执行失败，这是atomic看的见的异常，所以会执行回滚，此时数据库没有新增记录。这可能是我们经常期望看到的"
   ]
  },
  {
   "cell_type": "markdown",
   "metadata": {},
   "source": [
    "## atomic的嵌套\n",
    "\n"
   ]
  },
  {
   "cell_type": "code",
   "execution_count": null,
   "metadata": {},
   "outputs": [],
   "source": [
    "with transaction.atomic():\n",
    "    obj = Province.objects.create(name=\"北京\")\n",
    "    try:\n",
    "        with transaction.atomic():\n",
    "            Province.objects.create(name=\"北京2\", active=3)\n",
    "    except Exception as e:\n",
    "        print(e)"
   ]
  },
  {
   "cell_type": "code",
   "execution_count": null,
   "metadata": {},
   "outputs": [],
   "source": [
    "最终数据库只会多一条name: 北京 的记录。"
   ]
  },
  {
   "cell_type": "markdown",
   "metadata": {},
   "source": [
    "## 保存点\n",
    "\n",
    "尽管事务是有原子性的，但还是能够打散为多个\"保存点\"——可看作是\"部分事务\"。\n",
    "\n",
    "例如，你有个事务包含了4条SQL语句，你可以在第二个SQL之后创建一个保存点。一旦保存点创建成功，就算第三条或第四条SQL执行失败，你仍旧能够做一个部分回滚，忽视后面两条SQL，仅保留前面两条。\n",
    "\n",
    "基本上，这就像是提供了一个切割的能力：一个普通的事务能够被切分为多个更“轻量”的事务，然后能进行部分回滚或部分提交。但一定要注意，小心整个事务被无端回滚掉（例如由于抛出了IntegrityError异常但却没有捕抓，那所有的保存点都会因此被回滚掉的).\n",
    "\n"
   ]
  },
  {
   "cell_type": "code",
   "execution_count": null,
   "metadata": {},
   "outputs": [],
   "source": [
    "with transaction.atomic():\n",
    "    obj = Province.objects.create(name=\"北京\")\n",
    "    sid1 = transaction.savepoint()\n",
    "    obj.name = '北京1'\n",
    "    obj.save()\n",
    "    # transaction.savepoint_rollback(sid1)\n",
    "    transaction.savepoint_commit(sid1)\n"
   ]
  },
  {
   "cell_type": "markdown",
   "metadata": {},
   "source": [
    "执行 savepoint_rollback(sid1) 最终数据库新增一条记录 name: 北京；执行savepoint_commit，会把保存点到savepoint_commit这句代码之间的都提交，最新数据库新增的一条记录 name: 北京1 "
   ]
  },
  {
   "cell_type": "markdown",
   "metadata": {},
   "source": [
    "## 几个注意点\n",
    "\n",
    "### transaction事务内不执行数据库的commit操作\n",
    "\n",
    "例如在事务当前启动celery异步任务, 无法获取未提交的改动.在使用transaction当中, Model.save()都不做commit,因此如果在transaction当中设置异步任务,使用get()查询数据库,将看不到对象在事务当中的改变.这也是实现”可重复读”的事务隔离级别,即同一个事务里面的多次查询都应该保持结果不变."
   ]
  },
  {
   "cell_type": "code",
   "execution_count": null,
   "metadata": {},
   "outputs": [],
   "source": [
    "def example_view(request):\n",
    "    with transaction.atomic():\n",
    "        change_obj() # 修改对象变量\n",
    "        obj.save()\n",
    "        async_task.delay(obj.id)\n",
    "\n",
    "def async_task(obj_id):\n",
    "    obj = Model.objects.get(pk=obj_id)\n",
    "    read_the_obj() # 读取对象信息"
   ]
  },
  {
   "cell_type": "markdown",
   "metadata": {},
   "source": [
    "### transaction只对数据库层的操作进行事务管理,不能理解为python操作的事务管理\n",
    "\n",
    "即使事务代码块发生了DataError,事务回滚,也仅是数据库层面的回滚,针对python的操作依然已完成.甚至是对Model.Object进行的操作会也会存在变量当中. "
   ]
  },
  {
   "cell_type": "code",
   "execution_count": null,
   "metadata": {},
   "outputs": [],
   "source": [
    "def example_view(request):\n",
    "    obj.changed = False\n",
    "    with transaction.atomic():\n",
    "        obj.changed = True\n",
    "        change_obj() # 修改对象其他变量\n",
    "        obj.save()\n",
    "        raise DataError\n",
    "    # True\n",
    "    print(\"obj.changed = \",obj.changed)\n"
   ]
  },
  {
   "cell_type": "markdown",
   "metadata": {},
   "source": [
    "发生Dataerror异常的回滚仅在数据库层面操作,因此不可以根据model object的属性值判断是否正确完成了事务. \n",
    "\n",
    "另外,虽然Django对数据库层面以ORM完成了很具体的抽象,但应该要清楚地意识到我们操作的model object和数据库内容本质不同,DJANGO只在查询和提交时进行数据库操作.\n"
   ]
  },
  {
   "cell_type": "code",
   "execution_count": null,
   "metadata": {},
   "outputs": [],
   "source": []
  }
 ],
 "metadata": {
  "kernelspec": {
   "display_name": "Python 3",
   "language": "python",
   "name": "python3"
  },
  "language_info": {
   "codemirror_mode": {
    "name": "ipython",
    "version": 3
   },
   "file_extension": ".py",
   "mimetype": "text/x-python",
   "name": "python",
   "nbconvert_exporter": "python",
   "pygments_lexer": "ipython3",
   "version": "3.6.3"
  }
 },
 "nbformat": 4,
 "nbformat_minor": 2
}
