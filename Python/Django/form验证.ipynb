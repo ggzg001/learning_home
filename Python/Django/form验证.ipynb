{
 "cells": [
  {
   "cell_type": "markdown",
   "metadata": {},
   "source": [
    "# ChoiceField\n",
    "\n",
    "```\n",
    "from django.forms import Form\n",
    "from django.forms import fields\n",
    "from django.core.validators import ValidationError\n",
    "from django.core.validators import RegexValidator\n",
    "```\n",
    "\n",
    "ChoiceField的choices无法动态获取数据库信息有2种解决方式：\n"
   ]
  },
  {
   "cell_type": "code",
   "execution_count": null,
   "metadata": {},
   "outputs": [],
   "source": [
    "class ClassesForm(Form):\n",
    "    name = fields.CharField(\n",
    "        required=True,  # 必填字段\n",
    "        error_messages={\"required\": \"姓名不能为空！！\"},  # 显示中文错误提示\n",
    "        widget=widgets.TextInput(attrs={\"placeholder\": \"姓名\", \"class\": \"form-control\"}),  # 自动生成input框\n",
    "    )\n",
    "    # 如果直接定义成classteacher_id，，_id 的形式，这样你添加数据的时候不会时时更新，所以在下面定义一个重写的方法\n",
    "    # classteacher_id = fields.ChoiceField(choices= models.UserInfo.objects.filter(ut_id = 1).values_list('id', \"username\"))\n",
    "\n",
    "    classteacher_id = fields.ChoiceField(choices=[])\n",
    "    def __init__(self,*args,**kwargs):   #重写init方法，时时更新\n",
    "        super().__init__(*args,**kwargs)   #继承父类\n",
    "\n",
    "        self.fields[\"classteacher_id\"].choices = models.UserInfo.objects.filter(ut_id = 1).values_list('id', \"username\")"
   ]
  },
  {
   "cell_type": "code",
   "execution_count": null,
   "metadata": {},
   "outputs": [],
   "source": [
    "from django.forms.models import ModelChoiceField  # 先导入\n",
    "\n",
    "class ClassForm(Form):\n",
    "    caption = fields.CharField(error_messages={'required':'班级名称不能为空'})\n",
    "    # headmaster = fields.ChoiceField(choices=[(1,'娜娜',)])\n",
    "    headmaster_id = ModelChoiceField(queryset=models.UserInfo.objects.filter(ut_id=2))"
   ]
  },
  {
   "cell_type": "markdown",
   "metadata": {},
   "source": [
    "form对象常用的三个属性和方法：is_valid()；cleaned_data；errors\n",
    "\n",
    "* cleaned_data是一个经过数据转换的字典，如把字符串的\"12\"转换为数字型的12.\n",
    "* errors也是一个字典，字典的value是列表形式。\n",
    "\n",
    "钩子函数：\n",
    "1. clean_字段名：某个字段进行校验\n",
    "\n",
    "    <font color=\"red\">注意：必须有返回值；只能拿自己当前字段值；raise ValidationError(\"xxx\")</font>\n",
    "2. clean：所有字段进行校验\n",
    "\n",
    "    <font color=\"red\">注意：必须有返回值；可以拿所有字段的值；add_error</font>"
   ]
  },
  {
   "cell_type": "code",
   "execution_count": null,
   "metadata": {},
   "outputs": [],
   "source": [
    "class LoginForm(Form):\n",
    "    username = fields.CharField(\n",
    "        required=True,  #必填字段\n",
    "        min_length=3,\n",
    "        max_length=16,\n",
    "        error_messages={\n",
    "            \"required\":\"用户名不能为空\",\n",
    "            \"min_length\":\"长度不能小于3\",\n",
    "            \"max_length\":\"长度不能大于16\"\n",
    "        },\n",
    "        widget=widgets.TextInput({\"placeholder\":\"username\",\"class\":\"form-control\"})\n",
    "    )\n",
    "    password = fields.CharField(\n",
    "        required=True,\n",
    "        min_length=3,\n",
    "        max_length=16,\n",
    "        error_messages={\n",
    "            \"required\": \"密码不能为空\",\n",
    "            \"min_length\": \"密码长度不能小于3\",\n",
    "            \"max_length\": \"密码长度不能大于16\",\n",
    "            # \"invalid\":\"密码格式错误\"\n",
    "            # error_messages的优先级高，如果写上\"invalid\":\"密码格式错误\"这个就会优先显示这个错误\n",
    "        },\n",
    "        widget=widgets.PasswordInput({\"placeholder\":\"password\",\"class\":\"form-control\"}),\n",
    "        validators=[RegexValidator(\"\\d+\",\"密码只能是数字\")]  #可以进行正则匹配提示错误\n",
    "    )\n",
    "\n",
    "    def clean_username(self):\n",
    "        user = self.cleaned_data[\"username\"]\n",
    "        is_exits = models.UserInfo.objects.filter(username=user).count()\n",
    "        if not is_exits:\n",
    "            raise ValidationError(\"用户名和密码错误\")\n",
    "        return user   #必须有return"
   ]
  },
  {
   "cell_type": "markdown",
   "metadata": {},
   "source": [
    "# ORM的only和defer\n",
    "\n"
   ]
  },
  {
   "cell_type": "code",
   "execution_count": null,
   "metadata": {},
   "outputs": [],
   "source": [
    "datalist = models.Userinfo.objects.all().only(\"name\",\"email\")  #拿到的还是一个QuerySet集合，仅仅取name和email\n",
    "for item in datalist:\n",
    "    print(item.id)\n",
    "    print(item.name)\n",
    "    print(item.pwd)   #只要表里有这个字段，一样会取到值，额外的会再发一次请求\n",
    "\n",
    "datalist = models.Userinfo.objects.all().defer(\"name\",\"email\") #阻止，不取name和email\n",
    "for item in datalist:\n",
    "    print(item.id)\n",
    "    print(item.pwd)\n"
   ]
  },
  {
   "cell_type": "markdown",
   "metadata": {},
   "source": [
    "# form对象的data和initial属性\n",
    "\n",
    "只有data属性调用is_valid才会进行校验工作，initial仅仅是前端展示用的。\n",
    "* form = TeacherForm(data=request.POST) # 数据和规则放置一起　（添加的时候用）\n",
    "* form = TeacherForm(initial={'username':obj.username,'password':obj.password,'email':obj.email})   # 显示input，并且将数据库中的默认值填写到input框中 （编辑的时候用）"
   ]
  },
  {
   "cell_type": "markdown",
   "metadata": {},
   "source": [
    "# 自定义验证规则\n",
    "\n"
   ]
  },
  {
   "cell_type": "code",
   "execution_count": null,
   "metadata": {},
   "outputs": [],
   "source": [
    "def mobile_validate(value):\n",
    "    mobile_re = re.compile(r'^(13[0-9]|15[012356789]|17[678]|18[0-9]|14[57])[0-9]{8}$')\n",
    "    if not mobile_re.match(value):\n",
    "        raise ValidationError('手机号码格式错误')\n",
    " \n",
    " \n",
    "class PublishForm(Form): \n",
    "    # 使用自定义验证规则\n",
    "    phone = fields.CharField(validators=[mobile_validate, ],\n",
    "                            error_messages={'required': '手机不能为空'},\n",
    "                            widget=widgets.TextInput(attrs={'class': \"form-control\",\n",
    "                                                          'placeholder': u'手机号码'}))"
   ]
  },
  {
   "cell_type": "markdown",
   "metadata": {},
   "source": [
    "# ModelForm\n",
    "\n",
    "通常在Django项目中，我们编写的大部分都是与Django 的模型紧密映射的表单。 举个例子，你也许会有个Book 模型，并且你还想创建一个form表单用来添加和编辑书籍信息到这个模型中。 在这种情况下，在form表单中定义字段将是冗余的，因为我们已经在模型中定义了那些字段。\n",
    "\n",
    "基于这个原因，Django 提供一个辅助类来让我们可以从Django 的模型创建Form，这就是ModelForm。\n",
    "\n",
    "与普通的Form表单验证类型类似，ModelForm表单的验证在调用is_valid() 或访问errors 属性时隐式调用。\n",
    "\n",
    "我们可以像使用Form类一样自定义局部钩子方法和全局钩子方法来实现自定义的校验规则。\n",
    "\n",
    "如果我们不重写具体字段并设置validators属性的化，ModelForm是按照模型中字段的validators来校验的。"
   ]
  },
  {
   "cell_type": "code",
   "execution_count": null,
   "metadata": {},
   "outputs": [],
   "source": [
    "class BookForm(forms.ModelForm):\n",
    "\n",
    "    class Meta:\n",
    "        model = models.Book\n",
    "        fields = \"__all__\"\n",
    "        labels = {\n",
    "            \"title\": \"书名\",\n",
    "            \"price\": \"价格\"\n",
    "        }\n",
    "        widgets = {\n",
    "            \"password\": forms.widgets.PasswordInput(attrs={\"class\": \"c1\"}),\n",
    "        }"
   ]
  },
  {
   "cell_type": "markdown",
   "metadata": {},
   "source": [
    "## Meta下常用参数\n",
    "\n",
    "```\n",
    "model = models.Book  # 对应的Model中的类\n",
    "fields = \"__all__\"  # 字段，如果是__all__, 就是表示列出所有的字段, 也可以是一个列表\n",
    "exclude = None  # 排除的字段, 可以是一个列表\n",
    "labels = None  # 提示信息\n",
    "help_texts = None  # 帮助提示信息\n",
    "widgets = None  # 自定义插件\n",
    "error_messages = None  # 自定义错误信息\n",
    "```\n",
    "\n",
    "## save方法\n",
    "\n",
    "每个ModelForm还具有一个save()方法。这个方法根据表单绑定的数据创建并能把对象保存进入数据库。ModelForm可以接受现有的模型实例作为关键字参数instance, 如果提供此参数, 则save()将根据提交的数据来更新该实例。如果没有提instance参数, save()将创建模型的一个新实例。"
   ]
  },
  {
   "cell_type": "code",
   "execution_count": null,
   "metadata": {},
   "outputs": [],
   "source": [
    "from myapp.models import Book\n",
    "from myapp.forms import BookForm\n",
    "\n",
    "# 根据POST数据创建一个新的form对象\n",
    "form_obj = BookForm(request.POST)\n",
    "\n",
    "# 创建书籍对象\n",
    "new_ book = form_obj.save()\n",
    "\n",
    "# 基于一个书籍对象创建form对象\n",
    "edit_obj = Book.objects.get(id=1)\n",
    "# 使用POST提交的数据更新书籍对象\n",
    "form_obj = BookForm(request.POST, instance=edit_obj)\n",
    "form_obj.save()"
   ]
  },
  {
   "cell_type": "code",
   "execution_count": null,
   "metadata": {},
   "outputs": [],
   "source": []
  }
 ],
 "metadata": {
  "kernelspec": {
   "display_name": "Python 3",
   "language": "python",
   "name": "python3"
  },
  "language_info": {
   "codemirror_mode": {
    "name": "ipython",
    "version": 3
   },
   "file_extension": ".py",
   "mimetype": "text/x-python",
   "name": "python",
   "nbconvert_exporter": "python",
   "pygments_lexer": "ipython3",
   "version": "3.6.3"
  }
 },
 "nbformat": 4,
 "nbformat_minor": 2
}
