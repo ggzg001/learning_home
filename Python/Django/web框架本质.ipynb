{
 "cells": [
  {
   "cell_type": "markdown",
   "metadata": {},
   "source": [
    "# web框架\n",
    "\n",
    "web框架是一种开发框架，用来支持动态网站、网络应用和网络服务的开发。这大多数的web框架提供了一套开发和部署网站的方式，也为web行为提供了一套通用的方法。web框架已经实现了很多功能，开发人员使用框架提供的方法并且完成自己的业务逻辑，就能快速开发web应用了。浏览器和服务器的是基于HTTP协议进行通信的。也可以说web框架就是在以上十几行代码基础张扩展出来的，有很多简单方便使用的方法，大大提高了开发的效率。\n",
    "\n",
    "说的通俗一点，web框架就是别人写好的程序，用户只需要按照一定的规则，在该写的地方写该写的代码就能实现一个web服务器端。因为web服务器端要做的事情其实还是挺多的，比如socket的连接释放，请求的解析和响应的封装等。用户站在使用者的角度只需要舒舒服服地写业务代码即可。\n",
    "\n",
    "我觉得只要一名开发人员开发年限在一年多以上，就应该去站在上帝视角去看待技术，对于web框架来说就是我们应该站在源码角度去看web框架的使用。"
   ]
  },
  {
   "cell_type": "markdown",
   "metadata": {},
   "source": [
    "# wsgi规范\n",
    "\n",
    "在web领域，可以把造轮子的先简单划分成2种人，一种是处理socket连接的server，一个是编写应用框架的app，要想2者可以无缝衔接，出现了一个叫wsgi规范的东西。wsgi对app有约束，对server也有约束，wsgi要求app必须是一个可接受两个参数的可调用对象(可以是一个对象，也可以是一个函数)。"
   ]
  },
  {
   "cell_type": "code",
   "execution_count": 1,
   "metadata": {},
   "outputs": [],
   "source": [
    "def application(environ, start_response):\n",
    "    status = \"200 OK\"\n",
    "    response_headers = [(\"Content-Type\", \"text/plain\")]\n",
    "    start_response(status, response_headers)\n",
    "    return [b\"hello world\"]"
   ]
  },
  {
   "cell_type": "markdown",
   "metadata": {},
   "source": [
    "app需要接收2个参数\n",
    "* environ： 请求信息字典\n",
    "* start_response：一个可调用对象，用于设置响应状态码和响应头\n",
    "\n",
    "wsgi server 的实现要复杂一些, 但无论多复杂, 要做的工作无外乎就是维护socket连接, 组成包含请求信息的environ, 并把这个服务端对响应头和响应状态码的处理函数交给app，app经过一堆复杂的处理给出结果，server端负责把结果发出去。具体server的实现可以参考tornado部分的。\n",
    "\n",
    "wsgiref模块实现了兼容wsgi规范的server，可以简单看一下："
   ]
  },
  {
   "cell_type": "code",
   "execution_count": null,
   "metadata": {},
   "outputs": [],
   "source": [
    "from wsgiref.simple_server import make_server\n",
    "\n",
    "\n",
    "def application(environ, start_response):\n",
    "    status = \"200 OK\"\n",
    "    response_headers = [(\"Content-Type\", \"text/plain\")]\n",
    "    start_response(status, response_headers)\n",
    "    return [b\"hello world\"]\n",
    "\n",
    "\"\"\"\n",
    "def make_server(\n",
    "    host, port, app, server_class=WSGIServer, handler_class=WSGIRequestHandler\n",
    "):\n",
    "    server = server_class((host, port), handler_class)\n",
    "    server.set_app(app)\n",
    "    return server\n",
    "\"\"\"\n",
    "server = make_server(\"\", 9001, application)\n",
    "server.serve_forever()"
   ]
  },
  {
   "attachments": {
    "image.png": {
     "image/png": "[encoded data removed]"
    }
   },
   "cell_type": "markdown",
   "metadata": {},
   "source": [
    "# 自定义简单的框架\n",
    "\n",
    "利用wsgiref帮忙自定义一个web框架，技术上没啥难点，唯一需要注意的是**代码分层**，把内容包装成函数，把实现同样功能的放在一个py文件，把实现一个大功能的很多py文件放在一个包里。\n",
    "![image.png](attachment:image.png)"
   ]
  },
  {
   "cell_type": "code",
   "execution_count": null,
   "metadata": {},
   "outputs": [],
   "source": [
    "# views.py\n",
    "import urllib.parse\n",
    "from app.model import UserRepository\n",
    "\n",
    "\n",
    "def login(request):\n",
    "    if request.get(\"REQUEST_METHOD\") == \"GET\":\n",
    "        with open(\"templates/login.html\") as f:\n",
    "            return f.read().encode(\"utf8\")\n",
    "    elif request.get(\"REQUEST_METHOD\") == \"POST\":\n",
    "        content_length = int(request.get('CONTENT_LENGTH', 0))\n",
    "        request_body = request.get('wsgi.input').read(content_length)\n",
    "        arguments = urllib.parse.parse_qs(request_body.decode(\"utf8\"))\n",
    "        UserRepository().create(arguments.get(\"user\")\n",
    "                                [0], arguments.get(\"pwd\")[0],)\n",
    "        return b\"create success\"\n",
    "\n",
    "\n",
    "def index(request):\n",
    "    with open(\"templates/index.html\") as f:\n",
    "        return f.read().encode(\"utf8\")"
   ]
  },
  {
   "cell_type": "code",
   "execution_count": null,
   "metadata": {},
   "outputs": [],
   "source": [
    "# model.py\n",
    "import pymysql\n",
    "\n",
    "from settings import mysql_conn_info\n",
    "\n",
    "\n",
    "class UserRepository(object):\n",
    "    \"\"\"\n",
    "    完成对user表的增删改查\n",
    "    \"\"\"\n",
    "\n",
    "    def __init__(self):\n",
    "        self.conn = pymysql.connect(**mysql_conn_info)\n",
    "        self.cursor = self.conn.cursor()\n",
    "\n",
    "    def create(self, user, pwd):\n",
    "        # 增加记录\n",
    "        sql = \"insert into userinfo(name, pwd) values (%s, %s)\"\n",
    "        self.cursor.execute(sql, [user, pwd])\n",
    "        self.close()\n",
    "\n",
    "    def delete(self, user):\n",
    "        # 删除记录\n",
    "        pass\n",
    "\n",
    "    def update(self, user):\n",
    "        # 更新记录\n",
    "        pass\n",
    "\n",
    "    def select(self, user):\n",
    "        # 查询记录\n",
    "        pass\n",
    "\n",
    "    def close(self):\n",
    "        # 收尾工作\n",
    "        self.conn.commit()\n",
    "        self.cursor.close()\n",
    "        self.conn.close()\n"
   ]
  },
  {
   "cell_type": "code",
   "execution_count": null,
   "metadata": {},
   "outputs": [],
   "source": [
    "# manage.py\n",
    "from wsgiref.simple_server import make_server\n",
    "from urls import urls\n",
    "\n",
    "def application(environ, start_response):\n",
    "    path = environ.get(\"PATH_INFO\")\n",
    "\n",
    "    func = None\n",
    "    for pattern in urls:\n",
    "        if pattern[0] == path:\n",
    "            func = pattern[1]\n",
    "            break\n",
    "    if not func:\n",
    "        return [b\"404\"]\n",
    "    response = func(environ)\n",
    "\n",
    "    status = \"200 OK\"\n",
    "    response_headers = [(\"Content-Type\", \"text/html\")]\n",
    "    start_response(status, response_headers)\n",
    "    return [response]\n",
    "\n",
    "\n",
    "server = make_server(\"\", 9002, application)\n",
    "server.serve_forever()"
   ]
  },
  {
   "cell_type": "code",
   "execution_count": 4,
   "metadata": {},
   "outputs": [],
   "source": [
    "# settings.py\n",
    "mysql_conn_info = {\n",
    "    \"host\": '127.0.0.1',\n",
    "    \"port\": 3306,\n",
    "    \"user\": 'root',\n",
    "    \"passwd\": '',\n",
    "    \"db\": 'test',\n",
    "    \"charset\": 'utf8'\n",
    "}\n"
   ]
  },
  {
   "cell_type": "code",
   "execution_count": null,
   "metadata": {},
   "outputs": [],
   "source": [
    "# urls.py\n",
    "from app.view import login, index\n",
    "\n",
    "urls = [\n",
    "    (r\"/login\", login),\n",
    "    (r\"/index\", index),\n",
    "]"
   ]
  },
  {
   "cell_type": "markdown",
   "metadata": {},
   "source": [
    "login.html\n",
    "```html\n",
    "<!DOCTYPE html>\n",
    "<html lang=\"en\">\n",
    "<head>\n",
    "    <meta charset=\"UTF-8\">\n",
    "    <title>login</title>\n",
    "</head>\n",
    "<body>\n",
    "\n",
    "<h4>创建用户页面</h4>\n",
    "<form action=\"\" method=\"post\">\n",
    "     用户名 <input type=\"text\" name=\"user\">\n",
    "     密码 <input type=\"text\" name=\"pwd\">\n",
    "    <input type=\"submit\">\n",
    "</form>\n",
    "\n",
    "</body>\n",
    "</html>\n",
    "```"
   ]
  },
  {
   "cell_type": "markdown",
   "metadata": {},
   "source": [
    "这样，一个最基本的框架就完成了，用户想增加新的业务逻辑，只需要做3步，在urls.py添加url和视图函数的映射，在models里写要操作的表，在views里写视图函数。上述代码比较简陋，没啥可取之处，唯一可取之处就是把不能功能进行拆分，这个理念和拆分能力需要在日常开发中有意识去锻炼。"
   ]
  },
  {
   "cell_type": "code",
   "execution_count": null,
   "metadata": {},
   "outputs": [],
   "source": []
  }
 ],
 "metadata": {
  "kernelspec": {
   "display_name": "Python 3",
   "language": "python",
   "name": "python3"
  },
  "language_info": {
   "codemirror_mode": {
    "name": "ipython",
    "version": 3
   },
   "file_extension": ".py",
   "mimetype": "text/x-python",
   "name": "python",
   "nbconvert_exporter": "python",
   "pygments_lexer": "ipython3",
   "version": "3.6.3"
  }
 },
 "nbformat": 4,
 "nbformat_minor": 2
}
