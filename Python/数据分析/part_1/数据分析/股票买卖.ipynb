{
 "cells": [
  {
   "cell_type": "markdown",
   "metadata": {},
   "source": [
    "需求：\n",
    "假如一个人从2010年1月1日开始，每月第一个交易日买入1手股票，每年最后一个交易日卖出所有股票，到今天为止，那么他的收益如何？\n",
    "\n",
    "股票数据为stock.csv"
   ]
  },
  {
   "cell_type": "code",
   "execution_count": 1,
   "metadata": {},
   "outputs": [],
   "source": [
    "from pandas import DataFrame\n",
    "import pandas as pd"
   ]
  },
  {
   "cell_type": "code",
   "execution_count": 15,
   "metadata": {},
   "outputs": [],
   "source": [
    "# 在读取数据的时候把字符串时间转为date类型，并把列索引date转为行索引\n",
    "df = pd.read_csv(\"./data/stock/stock.csv\", index_col=\"date\", parse_dates=[\"date\"])"
   ]
  },
  {
   "cell_type": "code",
   "execution_count": 16,
   "metadata": {},
   "outputs": [
    {
     "data": {
      "text/html": [
       "<div>\n",
       "<style scoped>\n",
       "    .dataframe tbody tr th:only-of-type {\n",
       "        vertical-align: middle;\n",
       "    }\n",
       "\n",
       "    .dataframe tbody tr th {\n",
       "        vertical-align: top;\n",
       "    }\n",
       "\n",
       "    .dataframe thead th {\n",
       "        text-align: right;\n",
       "    }\n",
       "</style>\n",
       "<table border=\"1\" class=\"dataframe\">\n",
       "  <thead>\n",
       "    <tr style=\"text-align: right;\">\n",
       "      <th></th>\n",
       "      <th>Unnamed: 0</th>\n",
       "      <th>open</th>\n",
       "      <th>close</th>\n",
       "      <th>high</th>\n",
       "      <th>low</th>\n",
       "      <th>volume</th>\n",
       "      <th>code</th>\n",
       "    </tr>\n",
       "    <tr>\n",
       "      <th>date</th>\n",
       "      <th></th>\n",
       "      <th></th>\n",
       "      <th></th>\n",
       "      <th></th>\n",
       "      <th></th>\n",
       "      <th></th>\n",
       "      <th></th>\n",
       "    </tr>\n",
       "  </thead>\n",
       "  <tbody>\n",
       "    <tr>\n",
       "      <th>2001-08-27</th>\n",
       "      <td>0</td>\n",
       "      <td>5.392</td>\n",
       "      <td>5.554</td>\n",
       "      <td>5.902</td>\n",
       "      <td>5.132</td>\n",
       "      <td>406318.00</td>\n",
       "      <td>600519</td>\n",
       "    </tr>\n",
       "    <tr>\n",
       "      <th>2001-08-28</th>\n",
       "      <td>1</td>\n",
       "      <td>5.467</td>\n",
       "      <td>5.759</td>\n",
       "      <td>5.781</td>\n",
       "      <td>5.407</td>\n",
       "      <td>129647.79</td>\n",
       "      <td>600519</td>\n",
       "    </tr>\n",
       "    <tr>\n",
       "      <th>2001-08-29</th>\n",
       "      <td>2</td>\n",
       "      <td>5.777</td>\n",
       "      <td>5.684</td>\n",
       "      <td>5.781</td>\n",
       "      <td>5.640</td>\n",
       "      <td>53252.75</td>\n",
       "      <td>600519</td>\n",
       "    </tr>\n",
       "    <tr>\n",
       "      <th>2001-08-30</th>\n",
       "      <td>3</td>\n",
       "      <td>5.668</td>\n",
       "      <td>5.796</td>\n",
       "      <td>5.860</td>\n",
       "      <td>5.624</td>\n",
       "      <td>48013.06</td>\n",
       "      <td>600519</td>\n",
       "    </tr>\n",
       "    <tr>\n",
       "      <th>2001-08-31</th>\n",
       "      <td>4</td>\n",
       "      <td>5.804</td>\n",
       "      <td>5.782</td>\n",
       "      <td>5.877</td>\n",
       "      <td>5.749</td>\n",
       "      <td>23231.48</td>\n",
       "      <td>600519</td>\n",
       "    </tr>\n",
       "  </tbody>\n",
       "</table>\n",
       "</div>"
      ],
      "text/plain": [
       "            Unnamed: 0   open  close   high    low     volume    code\n",
       "date                                                                 \n",
       "2001-08-27           0  5.392  5.554  5.902  5.132  406318.00  600519\n",
       "2001-08-28           1  5.467  5.759  5.781  5.407  129647.79  600519\n",
       "2001-08-29           2  5.777  5.684  5.781  5.640   53252.75  600519\n",
       "2001-08-30           3  5.668  5.796  5.860  5.624   48013.06  600519\n",
       "2001-08-31           4  5.804  5.782  5.877  5.749   23231.48  600519"
      ]
     },
     "execution_count": 16,
     "metadata": {},
     "output_type": "execute_result"
    }
   ],
   "source": [
    "df.head()"
   ]
  },
  {
   "cell_type": "code",
   "execution_count": 17,
   "metadata": {},
   "outputs": [],
   "source": [
    "df.drop(\"Unnamed: 0\", axis=1, inplace=True)"
   ]
  },
  {
   "cell_type": "code",
   "execution_count": 18,
   "metadata": {},
   "outputs": [
    {
     "data": {
      "text/html": [
       "<div>\n",
       "<style scoped>\n",
       "    .dataframe tbody tr th:only-of-type {\n",
       "        vertical-align: middle;\n",
       "    }\n",
       "\n",
       "    .dataframe tbody tr th {\n",
       "        vertical-align: top;\n",
       "    }\n",
       "\n",
       "    .dataframe thead th {\n",
       "        text-align: right;\n",
       "    }\n",
       "</style>\n",
       "<table border=\"1\" class=\"dataframe\">\n",
       "  <thead>\n",
       "    <tr style=\"text-align: right;\">\n",
       "      <th></th>\n",
       "      <th>open</th>\n",
       "      <th>close</th>\n",
       "      <th>high</th>\n",
       "      <th>low</th>\n",
       "      <th>volume</th>\n",
       "      <th>code</th>\n",
       "    </tr>\n",
       "    <tr>\n",
       "      <th>date</th>\n",
       "      <th></th>\n",
       "      <th></th>\n",
       "      <th></th>\n",
       "      <th></th>\n",
       "      <th></th>\n",
       "      <th></th>\n",
       "    </tr>\n",
       "  </thead>\n",
       "  <tbody>\n",
       "    <tr>\n",
       "      <th>2001-08-27</th>\n",
       "      <td>5.392</td>\n",
       "      <td>5.554</td>\n",
       "      <td>5.902</td>\n",
       "      <td>5.132</td>\n",
       "      <td>406318.00</td>\n",
       "      <td>600519</td>\n",
       "    </tr>\n",
       "    <tr>\n",
       "      <th>2001-08-28</th>\n",
       "      <td>5.467</td>\n",
       "      <td>5.759</td>\n",
       "      <td>5.781</td>\n",
       "      <td>5.407</td>\n",
       "      <td>129647.79</td>\n",
       "      <td>600519</td>\n",
       "    </tr>\n",
       "    <tr>\n",
       "      <th>2001-08-29</th>\n",
       "      <td>5.777</td>\n",
       "      <td>5.684</td>\n",
       "      <td>5.781</td>\n",
       "      <td>5.640</td>\n",
       "      <td>53252.75</td>\n",
       "      <td>600519</td>\n",
       "    </tr>\n",
       "    <tr>\n",
       "      <th>2001-08-30</th>\n",
       "      <td>5.668</td>\n",
       "      <td>5.796</td>\n",
       "      <td>5.860</td>\n",
       "      <td>5.624</td>\n",
       "      <td>48013.06</td>\n",
       "      <td>600519</td>\n",
       "    </tr>\n",
       "    <tr>\n",
       "      <th>2001-08-31</th>\n",
       "      <td>5.804</td>\n",
       "      <td>5.782</td>\n",
       "      <td>5.877</td>\n",
       "      <td>5.749</td>\n",
       "      <td>23231.48</td>\n",
       "      <td>600519</td>\n",
       "    </tr>\n",
       "  </tbody>\n",
       "</table>\n",
       "</div>"
      ],
      "text/plain": [
       "             open  close   high    low     volume    code\n",
       "date                                                     \n",
       "2001-08-27  5.392  5.554  5.902  5.132  406318.00  600519\n",
       "2001-08-28  5.467  5.759  5.781  5.407  129647.79  600519\n",
       "2001-08-29  5.777  5.684  5.781  5.640   53252.75  600519\n",
       "2001-08-30  5.668  5.796  5.860  5.624   48013.06  600519\n",
       "2001-08-31  5.804  5.782  5.877  5.749   23231.48  600519"
      ]
     },
     "execution_count": 18,
     "metadata": {},
     "output_type": "execute_result"
    }
   ],
   "source": [
    "df.head()"
   ]
  },
  {
   "cell_type": "code",
   "execution_count": 20,
   "metadata": {},
   "outputs": [
    {
     "name": "stdout",
     "output_type": "stream",
     "text": [
      "310250.69999999984\n"
     ]
    }
   ],
   "source": [
    "# 最后一个开盘价格\n",
    "price_last = df['open'][-1]\n",
    "# 选2010到2019的数据\n",
    "df = df['2010':'2019'] \n",
    "#Pandas提供了resample函数用便捷的方式对时间序列进行重采样，根据时间粒度的变大或者变小分为降采样和升采样\n",
    "# 因为是每月第一个交易日买入1手股票, 所以根据1M进行采样, 取第一个first数据，完整的一年会采样得到12个数据\n",
    "df_monthly = df.resample(\"1M\").first()\n",
    "# 每年最后一个交易日卖出所有股票，所以根据1Y进行采样, 取最后一个last数据。这里去除最后一年，因为2019年还没有到年底\n",
    "df_yearly = df.resample(\"1Y\").last()[:-1] #去除最后一年\n",
    "# cost_money 初始置0\n",
    "cost_money = 0\n",
    "hold = 0 #每年持有的股票\n",
    "for year in range(2010, 2020):  \n",
    "    # 这里的sum相当于把一年12个月的第一天的数据加起来，至于*100是因为1手股票等于100股\n",
    "    cost_money -= df_monthly.loc[str(year)]['open'].sum()*100\n",
    "    # 持有股票数量\n",
    "    hold += len(df_monthly[str(year)]['open']) * 100\n",
    "    if year != 2019:\n",
    "        # 非2019年，会在每年最后一个交易日卖出股票来挣钱\n",
    "        cost_money += df_yearly[str(year)]['open'][0] * hold\n",
    "        # 卖完股票持有股票数置0\n",
    "        hold = 0 #每年持有的股票\n",
    "# 2019年手上还有股票因为没有到年底，没有出售，此时也应加上这些股票的价值\n",
    "cost_money += hold * price_last\n",
    "\n",
    "print(cost_money)"
   ]
  },
  {
   "cell_type": "code",
   "execution_count": null,
   "metadata": {},
   "outputs": [],
   "source": []
  }
 ],
 "metadata": {
  "kernelspec": {
   "display_name": "Python 3",
   "language": "python",
   "name": "python3"
  },
  "language_info": {
   "codemirror_mode": {
    "name": "ipython",
    "version": 3
   },
   "file_extension": ".py",
   "mimetype": "text/x-python",
   "name": "python",
   "nbconvert_exporter": "python",
   "pygments_lexer": "ipython3",
   "version": "3.6.3"
  }
 },
 "nbformat": 4,
 "nbformat_minor": 2
}
